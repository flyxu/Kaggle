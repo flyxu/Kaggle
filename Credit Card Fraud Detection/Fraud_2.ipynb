{
 "cells": [
  {
   "cell_type": "code",
   "execution_count": 1,
   "metadata": {
    "collapsed": false
   },
   "outputs": [
    {
     "name": "stdout",
     "output_type": "stream",
     "text": [
      "Welcome to\n",
      "      ____              __\n",
      "     / __/__  ___ _____/ /__\n",
      "    _\\ \\/ _ \\/ _ `/ __/  '_/\n",
      "   /__ / .__/\\_,_/_/ /_/\\_\\   version 1.6.0\n",
      "      /_/\n",
      "\n",
      "Using Python version 2.7.12 (default, Nov 19 2016 06:48:10)\n",
      "SparkContext available as sc, HiveContext available as sqlContext.\n"
     ]
    }
   ],
   "source": [
    "import os\n",
    "execfile(os.path.join(os.environ[\"SPARK_HOME\"], 'python/pyspark/shell.py'))"
   ]
  },
  {
   "cell_type": "code",
   "execution_count": 5,
   "metadata": {
    "collapsed": false
   },
   "outputs": [
    {
     "name": "stdout",
     "output_type": "stream",
     "text": [
      "398062 85443\n"
     ]
    }
   ],
   "source": [
    "#从hdfs读取文件\n",
    "train= sc.textFile(\"hdfs:///user/train.csv\")\n",
    "test = sc.textFile(\"hdfs:///user/test.csv\")\n",
    "print train.count(),test.count()"
   ]
  },
  {
   "cell_type": "code",
   "execution_count": 11,
   "metadata": {
    "collapsed": true
   },
   "outputs": [],
   "source": [
    "#将数据转成LabeledPoint格式\n",
    "from pyspark.mllib.regression import LabeledPoint\n",
    "def parsePoint(line):\n",
    "    values = [float(x.strip()) for x in line.split(',')]\n",
    "    return LabeledPoint(values[-1],values[:30])"
   ]
  },
  {
   "cell_type": "code",
   "execution_count": 12,
   "metadata": {
    "collapsed": false
   },
   "outputs": [],
   "source": [
    "train_parsed = train.map(parsePoint)\n",
    "test_parsed = test.map(parsePoint)"
   ]
  },
  {
   "cell_type": "code",
   "execution_count": 14,
   "metadata": {
    "collapsed": true
   },
   "outputs": [],
   "source": [
    "#训练决策树模型\n",
    "from pyspark.mllib.tree import DecisionTree, DecisionTreeModel\n",
    "# Train a DecisionTree model.\n",
    "model = DecisionTree.trainClassifier(train_parsed, numClasses=2, categoricalFeaturesInfo={},\n",
    "                                     impurity='gini', maxDepth=5, maxBins=32)"
   ]
  },
  {
   "cell_type": "code",
   "execution_count": 19,
   "metadata": {
    "collapsed": false
   },
   "outputs": [
    {
     "name": "stdout",
     "output_type": "stream",
     "text": [
      "Learned classification tree model:\n",
      "DecisionTreeModel classifier of depth 5 with 57 nodes\n",
      "  If (feature 13 <= -1.88824809623)\n",
      "   If (feature 3 <= 0.0725116860673)\n",
      "    If (feature 9 <= -2.72197181022)\n",
      "     If (feature 11 <= -1.78485905966)\n",
      "      If (feature 1 <= 0.985515455055)\n",
      "       Predict: 0.0\n",
      "      Else (feature 1 > 0.985515455055)\n",
      "       Predict: 1.0\n",
      "     Else (feature 11 > -1.78485905966)\n",
      "      Predict: 0.0\n",
      "    Else (feature 9 > -2.72197181022)\n",
      "     If (feature 0 <= 1.45758964351)\n",
      "      Predict: 0.0\n",
      "     Else (feature 0 > 1.45758964351)\n",
      "      If (feature 25 <= -0.184385768522)\n",
      "       Predict: 1.0\n",
      "      Else (feature 25 > -0.184385768522)\n",
      "       Predict: 0.0\n",
      "   Else (feature 3 > 0.0725116860673)\n",
      "    If (feature 0 <= 1.97389157471)\n",
      "     If (feature 9 <= 1.08317963167)\n",
      "      If (feature 11 <= -1.78485905966)\n",
      "       Predict: 1.0\n",
      "      Else (feature 11 > -1.78485905966)\n",
      "       Predict: 1.0\n",
      "     Else (feature 9 > 1.08317963167)\n",
      "      Predict: 0.0\n",
      "    Else (feature 0 > 1.97389157471)\n",
      "     If (feature 29 <= -0.210177868948)\n",
      "      If (feature 14 <= -1.08657410207)\n",
      "       Predict: 0.0\n",
      "      Else (feature 14 > -1.08657410207)\n",
      "       Predict: 0.0\n",
      "     Else (feature 29 > -0.210177868948)\n",
      "      If (feature 5 <= -0.421096072117)\n",
      "       Predict: 0.0\n",
      "      Else (feature 5 > -0.421096072117)\n",
      "       Predict: 1.0\n",
      "  Else (feature 13 > -1.88824809623)\n",
      "   If (feature 3 <= 1.57776572638)\n",
      "    If (feature 13 <= -0.750914260147)\n",
      "     If (feature 3 <= 0.735957579594)\n",
      "      If (feature 10 <= 0.765680855549)\n",
      "       Predict: 0.0\n",
      "      Else (feature 10 > 0.765680855549)\n",
      "       Predict: 0.0\n",
      "     Else (feature 3 > 0.735957579594)\n",
      "      If (feature 14 <= -0.0309603087393)\n",
      "       Predict: 0.0\n",
      "      Else (feature 14 > -0.0309603087393)\n",
      "       Predict: 1.0\n",
      "    Else (feature 13 > -0.750914260147)\n",
      "     If (feature 19 <= -0.716995400812)\n",
      "      If (feature 11 <= 0.111084480358)\n",
      "       Predict: 1.0\n",
      "      Else (feature 11 > 0.111084480358)\n",
      "       Predict: 0.0\n",
      "     Else (feature 19 > -0.716995400812)\n",
      "      If (feature 29 <= 1.06737086338)\n",
      "       Predict: 0.0\n",
      "      Else (feature 29 > 1.06737086338)\n",
      "       Predict: 0.0\n",
      "   Else (feature 3 > 1.57776572638)\n",
      "    If (feature 7 <= 0.0724957605301)\n",
      "     If (feature 22 <= -0.345890715146)\n",
      "      If (feature 21 <= 0.753773092188)\n",
      "       Predict: 0.0\n",
      "      Else (feature 21 > 0.753773092188)\n",
      "       Predict: 0.0\n",
      "     Else (feature 22 > -0.345890715146)\n",
      "      If (feature 10 <= 0.126547423969)\n",
      "       Predict: 1.0\n",
      "      Else (feature 10 > 0.126547423969)\n",
      "       Predict: 1.0\n",
      "    Else (feature 7 > 0.0724957605301)\n",
      "     If (feature 13 <= -1.25829219945)\n",
      "      If (feature 24 <= 0.294952189733)\n",
      "       Predict: 0.0\n",
      "      Else (feature 24 > 0.294952189733)\n",
      "       Predict: 1.0\n",
      "     Else (feature 13 > -1.25829219945)\n",
      "      If (feature 10 <= 0.452467727133)\n",
      "       Predict: 0.0\n",
      "      Else (feature 10 > 0.452467727133)\n",
      "       Predict: 0.0\n",
      "\n"
     ]
    }
   ],
   "source": [
    "#打印模型信息\n",
    "print('Learned classification tree model:')\n",
    "print(model.toDebugString())"
   ]
  },
  {
   "cell_type": "code",
   "execution_count": 30,
   "metadata": {
    "collapsed": false
   },
   "outputs": [
    {
     "name": "stdout",
     "output_type": "stream",
     "text": [
      "Test Error = 0.0538487646735\n"
     ]
    }
   ],
   "source": [
    "#计算测试集误差\n",
    "predictions = model.predict(test_parsed.map(lambda x: x.features))\n",
    "PredictionsAndLabels = predictions.zip(test_parsed.map(lambda lp: lp.label))\n",
    "testErr = PredictionsAndLabels.filter(lambda (v, p): v != p).count() / float(test_parsed.count())\n",
    "print('Test Error = ' + str(testErr))"
   ]
  },
  {
   "cell_type": "code",
   "execution_count": 32,
   "metadata": {
    "collapsed": false
   },
   "outputs": [
    {
     "name": "stdout",
     "output_type": "stream",
     "text": [
      "Area under ROC = 0.932221133739\n"
     ]
    }
   ],
   "source": [
    "#计算AUC值\n",
    "from pyspark.mllib.evaluation import BinaryClassificationMetrics\n",
    "\n",
    "# Instantiate metrics object\n",
    "metrics = BinaryClassificationMetrics(PredictionsAndLabels)\n",
    "\n",
    "# Area under ROC curve\n",
    "print(\"Area under ROC = %s\" % metrics.areaUnderROC)"
   ]
  }
 ],
 "metadata": {
  "kernelspec": {
   "display_name": "Python [default]",
   "language": "python",
   "name": "python2"
  },
  "language_info": {
   "codemirror_mode": {
    "name": "ipython",
    "version": 2
   },
   "file_extension": ".py",
   "mimetype": "text/x-python",
   "name": "python",
   "nbconvert_exporter": "python",
   "pygments_lexer": "ipython2",
   "version": "2.7.12"
  }
 },
 "nbformat": 4,
 "nbformat_minor": 1
}
